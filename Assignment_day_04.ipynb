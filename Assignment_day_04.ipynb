{
 "cells": [
  {
   "cell_type": "code",
   "execution_count": 1,
   "id": "f8fcb983",
   "metadata": {},
   "outputs": [],
   "source": [
    "import pandas as pd"
   ]
  },
  {
   "cell_type": "markdown",
   "id": "a76b1d1f",
   "metadata": {},
   "source": [
    "# 1) Beml dataset"
   ]
  },
  {
   "cell_type": "code",
   "execution_count": 2,
   "id": "d3c6beb0",
   "metadata": {},
   "outputs": [],
   "source": [
    "df  = pd.read_csv(\"BEML.csv\")"
   ]
  },
  {
   "cell_type": "code",
   "execution_count": 3,
   "id": "57ad83f3",
   "metadata": {},
   "outputs": [
    {
     "data": {
      "text/html": [
       "<div>\n",
       "<style scoped>\n",
       "    .dataframe tbody tr th:only-of-type {\n",
       "        vertical-align: middle;\n",
       "    }\n",
       "\n",
       "    .dataframe tbody tr th {\n",
       "        vertical-align: top;\n",
       "    }\n",
       "\n",
       "    .dataframe thead th {\n",
       "        text-align: right;\n",
       "    }\n",
       "</style>\n",
       "<table border=\"1\" class=\"dataframe\">\n",
       "  <thead>\n",
       "    <tr style=\"text-align: right;\">\n",
       "      <th></th>\n",
       "      <th>Date</th>\n",
       "      <th>Open</th>\n",
       "      <th>High</th>\n",
       "      <th>Low</th>\n",
       "      <th>Last</th>\n",
       "      <th>Close</th>\n",
       "      <th>Total Trade Quantity</th>\n",
       "      <th>Turnover (Lacs)</th>\n",
       "    </tr>\n",
       "  </thead>\n",
       "  <tbody>\n",
       "    <tr>\n",
       "      <th>0</th>\n",
       "      <td>04-01-2010</td>\n",
       "      <td>1121.00</td>\n",
       "      <td>1151.00</td>\n",
       "      <td>1121.00</td>\n",
       "      <td>1134.00</td>\n",
       "      <td>1135.60</td>\n",
       "      <td>101651</td>\n",
       "      <td>1157.18</td>\n",
       "    </tr>\n",
       "    <tr>\n",
       "      <th>1</th>\n",
       "      <td>05-01-2010</td>\n",
       "      <td>1146.80</td>\n",
       "      <td>1149.00</td>\n",
       "      <td>1128.75</td>\n",
       "      <td>1135.00</td>\n",
       "      <td>1134.60</td>\n",
       "      <td>59504</td>\n",
       "      <td>676.47</td>\n",
       "    </tr>\n",
       "    <tr>\n",
       "      <th>2</th>\n",
       "      <td>06-01-2010</td>\n",
       "      <td>1140.00</td>\n",
       "      <td>1164.25</td>\n",
       "      <td>1130.05</td>\n",
       "      <td>1137.00</td>\n",
       "      <td>1139.60</td>\n",
       "      <td>128908</td>\n",
       "      <td>1482.84</td>\n",
       "    </tr>\n",
       "    <tr>\n",
       "      <th>3</th>\n",
       "      <td>07-01-2010</td>\n",
       "      <td>1142.00</td>\n",
       "      <td>1159.40</td>\n",
       "      <td>1119.20</td>\n",
       "      <td>1141.00</td>\n",
       "      <td>1144.15</td>\n",
       "      <td>117871</td>\n",
       "      <td>1352.98</td>\n",
       "    </tr>\n",
       "    <tr>\n",
       "      <th>4</th>\n",
       "      <td>08-01-2010</td>\n",
       "      <td>1156.00</td>\n",
       "      <td>1172.00</td>\n",
       "      <td>1140.00</td>\n",
       "      <td>1141.20</td>\n",
       "      <td>1144.05</td>\n",
       "      <td>170063</td>\n",
       "      <td>1971.42</td>\n",
       "    </tr>\n",
       "    <tr>\n",
       "      <th>...</th>\n",
       "      <td>...</td>\n",
       "      <td>...</td>\n",
       "      <td>...</td>\n",
       "      <td>...</td>\n",
       "      <td>...</td>\n",
       "      <td>...</td>\n",
       "      <td>...</td>\n",
       "      <td>...</td>\n",
       "    </tr>\n",
       "    <tr>\n",
       "      <th>1734</th>\n",
       "      <td>26-12-2016</td>\n",
       "      <td>965.00</td>\n",
       "      <td>965.05</td>\n",
       "      <td>935.00</td>\n",
       "      <td>950.10</td>\n",
       "      <td>950.25</td>\n",
       "      <td>398696</td>\n",
       "      <td>3783.63</td>\n",
       "    </tr>\n",
       "    <tr>\n",
       "      <th>1735</th>\n",
       "      <td>27-12-2016</td>\n",
       "      <td>960.70</td>\n",
       "      <td>989.00</td>\n",
       "      <td>952.35</td>\n",
       "      <td>974.00</td>\n",
       "      <td>975.70</td>\n",
       "      <td>808561</td>\n",
       "      <td>7885.14</td>\n",
       "    </tr>\n",
       "    <tr>\n",
       "      <th>1736</th>\n",
       "      <td>28-12-2016</td>\n",
       "      <td>980.75</td>\n",
       "      <td>985.00</td>\n",
       "      <td>970.15</td>\n",
       "      <td>977.00</td>\n",
       "      <td>974.40</td>\n",
       "      <td>367041</td>\n",
       "      <td>3592.49</td>\n",
       "    </tr>\n",
       "    <tr>\n",
       "      <th>1737</th>\n",
       "      <td>29-12-2016</td>\n",
       "      <td>977.10</td>\n",
       "      <td>997.95</td>\n",
       "      <td>974.55</td>\n",
       "      <td>985.15</td>\n",
       "      <td>986.05</td>\n",
       "      <td>555233</td>\n",
       "      <td>5489.14</td>\n",
       "    </tr>\n",
       "    <tr>\n",
       "      <th>1738</th>\n",
       "      <td>30-12-2016</td>\n",
       "      <td>986.00</td>\n",
       "      <td>1006.95</td>\n",
       "      <td>985.90</td>\n",
       "      <td>1004.00</td>\n",
       "      <td>1000.60</td>\n",
       "      <td>460675</td>\n",
       "      <td>4606.48</td>\n",
       "    </tr>\n",
       "  </tbody>\n",
       "</table>\n",
       "<p>1739 rows × 8 columns</p>\n",
       "</div>"
      ],
      "text/plain": [
       "            Date     Open     High      Low     Last    Close  \\\n",
       "0     04-01-2010  1121.00  1151.00  1121.00  1134.00  1135.60   \n",
       "1     05-01-2010  1146.80  1149.00  1128.75  1135.00  1134.60   \n",
       "2     06-01-2010  1140.00  1164.25  1130.05  1137.00  1139.60   \n",
       "3     07-01-2010  1142.00  1159.40  1119.20  1141.00  1144.15   \n",
       "4     08-01-2010  1156.00  1172.00  1140.00  1141.20  1144.05   \n",
       "...          ...      ...      ...      ...      ...      ...   \n",
       "1734  26-12-2016   965.00   965.05   935.00   950.10   950.25   \n",
       "1735  27-12-2016   960.70   989.00   952.35   974.00   975.70   \n",
       "1736  28-12-2016   980.75   985.00   970.15   977.00   974.40   \n",
       "1737  29-12-2016   977.10   997.95   974.55   985.15   986.05   \n",
       "1738  30-12-2016   986.00  1006.95   985.90  1004.00  1000.60   \n",
       "\n",
       "      Total Trade Quantity  Turnover (Lacs)  \n",
       "0                   101651          1157.18  \n",
       "1                    59504           676.47  \n",
       "2                   128908          1482.84  \n",
       "3                   117871          1352.98  \n",
       "4                   170063          1971.42  \n",
       "...                    ...              ...  \n",
       "1734                398696          3783.63  \n",
       "1735                808561          7885.14  \n",
       "1736                367041          3592.49  \n",
       "1737                555233          5489.14  \n",
       "1738                460675          4606.48  \n",
       "\n",
       "[1739 rows x 8 columns]"
      ]
     },
     "execution_count": 3,
     "metadata": {},
     "output_type": "execute_result"
    }
   ],
   "source": [
    "df"
   ]
  },
  {
   "cell_type": "code",
   "execution_count": 17,
   "id": "cb42db31",
   "metadata": {},
   "outputs": [],
   "source": [
    "df['gain'] =  df['Close'].pct_change()     #Add gain column"
   ]
  },
  {
   "cell_type": "code",
   "execution_count": 18,
   "id": "752d84d6",
   "metadata": {},
   "outputs": [
    {
     "data": {
      "text/html": [
       "<div>\n",
       "<style scoped>\n",
       "    .dataframe tbody tr th:only-of-type {\n",
       "        vertical-align: middle;\n",
       "    }\n",
       "\n",
       "    .dataframe tbody tr th {\n",
       "        vertical-align: top;\n",
       "    }\n",
       "\n",
       "    .dataframe thead th {\n",
       "        text-align: right;\n",
       "    }\n",
       "</style>\n",
       "<table border=\"1\" class=\"dataframe\">\n",
       "  <thead>\n",
       "    <tr style=\"text-align: right;\">\n",
       "      <th></th>\n",
       "      <th>Date</th>\n",
       "      <th>Open</th>\n",
       "      <th>High</th>\n",
       "      <th>Low</th>\n",
       "      <th>Last</th>\n",
       "      <th>Close</th>\n",
       "      <th>Total Trade Quantity</th>\n",
       "      <th>Turnover (Lacs)</th>\n",
       "      <th>gain</th>\n",
       "    </tr>\n",
       "  </thead>\n",
       "  <tbody>\n",
       "    <tr>\n",
       "      <th>0</th>\n",
       "      <td>04-01-2010</td>\n",
       "      <td>1121.00</td>\n",
       "      <td>1151.00</td>\n",
       "      <td>1121.00</td>\n",
       "      <td>1134.00</td>\n",
       "      <td>1135.60</td>\n",
       "      <td>101651</td>\n",
       "      <td>1157.18</td>\n",
       "      <td>NaN</td>\n",
       "    </tr>\n",
       "    <tr>\n",
       "      <th>1</th>\n",
       "      <td>05-01-2010</td>\n",
       "      <td>1146.80</td>\n",
       "      <td>1149.00</td>\n",
       "      <td>1128.75</td>\n",
       "      <td>1135.00</td>\n",
       "      <td>1134.60</td>\n",
       "      <td>59504</td>\n",
       "      <td>676.47</td>\n",
       "      <td>-0.000881</td>\n",
       "    </tr>\n",
       "    <tr>\n",
       "      <th>2</th>\n",
       "      <td>06-01-2010</td>\n",
       "      <td>1140.00</td>\n",
       "      <td>1164.25</td>\n",
       "      <td>1130.05</td>\n",
       "      <td>1137.00</td>\n",
       "      <td>1139.60</td>\n",
       "      <td>128908</td>\n",
       "      <td>1482.84</td>\n",
       "      <td>0.004407</td>\n",
       "    </tr>\n",
       "    <tr>\n",
       "      <th>3</th>\n",
       "      <td>07-01-2010</td>\n",
       "      <td>1142.00</td>\n",
       "      <td>1159.40</td>\n",
       "      <td>1119.20</td>\n",
       "      <td>1141.00</td>\n",
       "      <td>1144.15</td>\n",
       "      <td>117871</td>\n",
       "      <td>1352.98</td>\n",
       "      <td>0.003993</td>\n",
       "    </tr>\n",
       "    <tr>\n",
       "      <th>4</th>\n",
       "      <td>08-01-2010</td>\n",
       "      <td>1156.00</td>\n",
       "      <td>1172.00</td>\n",
       "      <td>1140.00</td>\n",
       "      <td>1141.20</td>\n",
       "      <td>1144.05</td>\n",
       "      <td>170063</td>\n",
       "      <td>1971.42</td>\n",
       "      <td>-0.000087</td>\n",
       "    </tr>\n",
       "    <tr>\n",
       "      <th>...</th>\n",
       "      <td>...</td>\n",
       "      <td>...</td>\n",
       "      <td>...</td>\n",
       "      <td>...</td>\n",
       "      <td>...</td>\n",
       "      <td>...</td>\n",
       "      <td>...</td>\n",
       "      <td>...</td>\n",
       "      <td>...</td>\n",
       "    </tr>\n",
       "    <tr>\n",
       "      <th>1734</th>\n",
       "      <td>26-12-2016</td>\n",
       "      <td>965.00</td>\n",
       "      <td>965.05</td>\n",
       "      <td>935.00</td>\n",
       "      <td>950.10</td>\n",
       "      <td>950.25</td>\n",
       "      <td>398696</td>\n",
       "      <td>3783.63</td>\n",
       "      <td>-0.021924</td>\n",
       "    </tr>\n",
       "    <tr>\n",
       "      <th>1735</th>\n",
       "      <td>27-12-2016</td>\n",
       "      <td>960.70</td>\n",
       "      <td>989.00</td>\n",
       "      <td>952.35</td>\n",
       "      <td>974.00</td>\n",
       "      <td>975.70</td>\n",
       "      <td>808561</td>\n",
       "      <td>7885.14</td>\n",
       "      <td>0.026782</td>\n",
       "    </tr>\n",
       "    <tr>\n",
       "      <th>1736</th>\n",
       "      <td>28-12-2016</td>\n",
       "      <td>980.75</td>\n",
       "      <td>985.00</td>\n",
       "      <td>970.15</td>\n",
       "      <td>977.00</td>\n",
       "      <td>974.40</td>\n",
       "      <td>367041</td>\n",
       "      <td>3592.49</td>\n",
       "      <td>-0.001332</td>\n",
       "    </tr>\n",
       "    <tr>\n",
       "      <th>1737</th>\n",
       "      <td>29-12-2016</td>\n",
       "      <td>977.10</td>\n",
       "      <td>997.95</td>\n",
       "      <td>974.55</td>\n",
       "      <td>985.15</td>\n",
       "      <td>986.05</td>\n",
       "      <td>555233</td>\n",
       "      <td>5489.14</td>\n",
       "      <td>0.011956</td>\n",
       "    </tr>\n",
       "    <tr>\n",
       "      <th>1738</th>\n",
       "      <td>30-12-2016</td>\n",
       "      <td>986.00</td>\n",
       "      <td>1006.95</td>\n",
       "      <td>985.90</td>\n",
       "      <td>1004.00</td>\n",
       "      <td>1000.60</td>\n",
       "      <td>460675</td>\n",
       "      <td>4606.48</td>\n",
       "      <td>0.014756</td>\n",
       "    </tr>\n",
       "  </tbody>\n",
       "</table>\n",
       "<p>1739 rows × 9 columns</p>\n",
       "</div>"
      ],
      "text/plain": [
       "            Date     Open     High      Low     Last    Close  \\\n",
       "0     04-01-2010  1121.00  1151.00  1121.00  1134.00  1135.60   \n",
       "1     05-01-2010  1146.80  1149.00  1128.75  1135.00  1134.60   \n",
       "2     06-01-2010  1140.00  1164.25  1130.05  1137.00  1139.60   \n",
       "3     07-01-2010  1142.00  1159.40  1119.20  1141.00  1144.15   \n",
       "4     08-01-2010  1156.00  1172.00  1140.00  1141.20  1144.05   \n",
       "...          ...      ...      ...      ...      ...      ...   \n",
       "1734  26-12-2016   965.00   965.05   935.00   950.10   950.25   \n",
       "1735  27-12-2016   960.70   989.00   952.35   974.00   975.70   \n",
       "1736  28-12-2016   980.75   985.00   970.15   977.00   974.40   \n",
       "1737  29-12-2016   977.10   997.95   974.55   985.15   986.05   \n",
       "1738  30-12-2016   986.00  1006.95   985.90  1004.00  1000.60   \n",
       "\n",
       "      Total Trade Quantity  Turnover (Lacs)      gain  \n",
       "0                   101651          1157.18       NaN  \n",
       "1                    59504           676.47 -0.000881  \n",
       "2                   128908          1482.84  0.004407  \n",
       "3                   117871          1352.98  0.003993  \n",
       "4                   170063          1971.42 -0.000087  \n",
       "...                    ...              ...       ...  \n",
       "1734                398696          3783.63 -0.021924  \n",
       "1735                808561          7885.14  0.026782  \n",
       "1736                367041          3592.49 -0.001332  \n",
       "1737                555233          5489.14  0.011956  \n",
       "1738                460675          4606.48  0.014756  \n",
       "\n",
       "[1739 rows x 9 columns]"
      ]
     },
     "execution_count": 18,
     "metadata": {},
     "output_type": "execute_result"
    }
   ],
   "source": [
    "df"
   ]
  },
  {
   "cell_type": "code",
   "execution_count": 25,
   "id": "699b970c",
   "metadata": {},
   "outputs": [
    {
     "data": {
      "text/plain": [
       "0.00027074807905723235"
      ]
     },
     "execution_count": 25,
     "metadata": {},
     "output_type": "execute_result"
    }
   ],
   "source": [
    "beml_mean = df['gain'].mean()\n",
    "beml_mean"
   ]
  },
  {
   "cell_type": "code",
   "execution_count": 26,
   "id": "c537e2bf",
   "metadata": {},
   "outputs": [
    {
     "data": {
      "text/plain": [
       "0.02643083146847487"
      ]
     },
     "execution_count": 26,
     "metadata": {},
     "output_type": "execute_result"
    }
   ],
   "source": [
    "beml_std = df['gain'].std()\n",
    "beml_std"
   ]
  },
  {
   "cell_type": "code",
   "execution_count": 6,
   "id": "e14d912c",
   "metadata": {},
   "outputs": [],
   "source": [
    "from matplotlib import pyplot as plt"
   ]
  },
  {
   "cell_type": "code",
   "execution_count": 19,
   "id": "2333f7ad",
   "metadata": {},
   "outputs": [
    {
     "data": {
      "text/plain": [
       "(array([  3.,  10.,  94., 780., 698., 117.,  25.,   7.,   0.,   4.]),\n",
       " array([-0.13394047, -0.10071348, -0.0674865 , -0.03425951, -0.00103252,\n",
       "         0.03219447,  0.06542146,  0.09864844,  0.13187543,  0.16510242,\n",
       "         0.19832941]),\n",
       " <BarContainer object of 10 artists>)"
      ]
     },
     "execution_count": 19,
     "metadata": {},
     "output_type": "execute_result"
    },
    {
     "data": {
      "image/png": "[encoded data removed]",
      "text/plain": [
       "<Figure size 640x480 with 1 Axes>"
      ]
     },
     "metadata": {},
     "output_type": "display_data"
    }
   ],
   "source": [
    "plt.hist(x = df['gain'] ) "
   ]
  },
  {
   "cell_type": "markdown",
   "id": "7cf19524",
   "metadata": {},
   "source": [
    "# 2) GLAXO dataset"
   ]
  },
  {
   "cell_type": "code",
   "execution_count": 8,
   "id": "c10b29ee",
   "metadata": {},
   "outputs": [],
   "source": [
    "df1  = pd.read_csv(\"GLAXO.csv\")"
   ]
  },
  {
   "cell_type": "code",
   "execution_count": 9,
   "id": "d7c1a730",
   "metadata": {},
   "outputs": [
    {
     "data": {
      "text/html": [
       "<div>\n",
       "<style scoped>\n",
       "    .dataframe tbody tr th:only-of-type {\n",
       "        vertical-align: middle;\n",
       "    }\n",
       "\n",
       "    .dataframe tbody tr th {\n",
       "        vertical-align: top;\n",
       "    }\n",
       "\n",
       "    .dataframe thead th {\n",
       "        text-align: right;\n",
       "    }\n",
       "</style>\n",
       "<table border=\"1\" class=\"dataframe\">\n",
       "  <thead>\n",
       "    <tr style=\"text-align: right;\">\n",
       "      <th></th>\n",
       "      <th>Date</th>\n",
       "      <th>Open</th>\n",
       "      <th>High</th>\n",
       "      <th>Low</th>\n",
       "      <th>Last</th>\n",
       "      <th>Close</th>\n",
       "      <th>Total Trade Quantity</th>\n",
       "      <th>Turnover (Lacs)</th>\n",
       "    </tr>\n",
       "  </thead>\n",
       "  <tbody>\n",
       "    <tr>\n",
       "      <th>0</th>\n",
       "      <td>2010-01-04</td>\n",
       "      <td>1613.00</td>\n",
       "      <td>1629.10</td>\n",
       "      <td>1602.00</td>\n",
       "      <td>1629.0</td>\n",
       "      <td>1625.65</td>\n",
       "      <td>9365.0</td>\n",
       "      <td>151.74</td>\n",
       "    </tr>\n",
       "    <tr>\n",
       "      <th>1</th>\n",
       "      <td>2010-01-05</td>\n",
       "      <td>1639.95</td>\n",
       "      <td>1639.95</td>\n",
       "      <td>1611.05</td>\n",
       "      <td>1620.0</td>\n",
       "      <td>1616.80</td>\n",
       "      <td>38148.0</td>\n",
       "      <td>622.58</td>\n",
       "    </tr>\n",
       "    <tr>\n",
       "      <th>2</th>\n",
       "      <td>2010-01-06</td>\n",
       "      <td>1618.00</td>\n",
       "      <td>1644.00</td>\n",
       "      <td>1617.00</td>\n",
       "      <td>1639.0</td>\n",
       "      <td>1638.50</td>\n",
       "      <td>36519.0</td>\n",
       "      <td>595.09</td>\n",
       "    </tr>\n",
       "    <tr>\n",
       "      <th>3</th>\n",
       "      <td>2010-01-07</td>\n",
       "      <td>1645.00</td>\n",
       "      <td>1654.00</td>\n",
       "      <td>1636.00</td>\n",
       "      <td>1648.0</td>\n",
       "      <td>1648.70</td>\n",
       "      <td>12809.0</td>\n",
       "      <td>211.00</td>\n",
       "    </tr>\n",
       "    <tr>\n",
       "      <th>4</th>\n",
       "      <td>2010-01-08</td>\n",
       "      <td>1650.00</td>\n",
       "      <td>1650.00</td>\n",
       "      <td>1626.55</td>\n",
       "      <td>1640.0</td>\n",
       "      <td>1639.80</td>\n",
       "      <td>28035.0</td>\n",
       "      <td>459.11</td>\n",
       "    </tr>\n",
       "    <tr>\n",
       "      <th>...</th>\n",
       "      <td>...</td>\n",
       "      <td>...</td>\n",
       "      <td>...</td>\n",
       "      <td>...</td>\n",
       "      <td>...</td>\n",
       "      <td>...</td>\n",
       "      <td>...</td>\n",
       "      <td>...</td>\n",
       "    </tr>\n",
       "    <tr>\n",
       "      <th>1734</th>\n",
       "      <td>2016-12-26</td>\n",
       "      <td>2703.00</td>\n",
       "      <td>2740.00</td>\n",
       "      <td>2677.00</td>\n",
       "      <td>2715.0</td>\n",
       "      <td>2723.50</td>\n",
       "      <td>3953.0</td>\n",
       "      <td>107.15</td>\n",
       "    </tr>\n",
       "    <tr>\n",
       "      <th>1735</th>\n",
       "      <td>2016-12-27</td>\n",
       "      <td>2722.95</td>\n",
       "      <td>2725.00</td>\n",
       "      <td>2683.00</td>\n",
       "      <td>2692.0</td>\n",
       "      <td>2701.75</td>\n",
       "      <td>10600.0</td>\n",
       "      <td>286.10</td>\n",
       "    </tr>\n",
       "    <tr>\n",
       "      <th>1736</th>\n",
       "      <td>2016-12-28</td>\n",
       "      <td>2701.75</td>\n",
       "      <td>2718.00</td>\n",
       "      <td>2690.00</td>\n",
       "      <td>2698.0</td>\n",
       "      <td>2702.15</td>\n",
       "      <td>6050.0</td>\n",
       "      <td>163.44</td>\n",
       "    </tr>\n",
       "    <tr>\n",
       "      <th>1737</th>\n",
       "      <td>2016-12-29</td>\n",
       "      <td>2702.05</td>\n",
       "      <td>2739.00</td>\n",
       "      <td>2691.95</td>\n",
       "      <td>2710.0</td>\n",
       "      <td>2727.90</td>\n",
       "      <td>7649.0</td>\n",
       "      <td>207.87</td>\n",
       "    </tr>\n",
       "    <tr>\n",
       "      <th>1738</th>\n",
       "      <td>2016-12-30</td>\n",
       "      <td>2730.00</td>\n",
       "      <td>2740.45</td>\n",
       "      <td>2705.00</td>\n",
       "      <td>2730.0</td>\n",
       "      <td>2729.80</td>\n",
       "      <td>6513.0</td>\n",
       "      <td>177.65</td>\n",
       "    </tr>\n",
       "  </tbody>\n",
       "</table>\n",
       "<p>1739 rows × 8 columns</p>\n",
       "</div>"
      ],
      "text/plain": [
       "            Date     Open     High      Low    Last    Close  \\\n",
       "0     2010-01-04  1613.00  1629.10  1602.00  1629.0  1625.65   \n",
       "1     2010-01-05  1639.95  1639.95  1611.05  1620.0  1616.80   \n",
       "2     2010-01-06  1618.00  1644.00  1617.00  1639.0  1638.50   \n",
       "3     2010-01-07  1645.00  1654.00  1636.00  1648.0  1648.70   \n",
       "4     2010-01-08  1650.00  1650.00  1626.55  1640.0  1639.80   \n",
       "...          ...      ...      ...      ...     ...      ...   \n",
       "1734  2016-12-26  2703.00  2740.00  2677.00  2715.0  2723.50   \n",
       "1735  2016-12-27  2722.95  2725.00  2683.00  2692.0  2701.75   \n",
       "1736  2016-12-28  2701.75  2718.00  2690.00  2698.0  2702.15   \n",
       "1737  2016-12-29  2702.05  2739.00  2691.95  2710.0  2727.90   \n",
       "1738  2016-12-30  2730.00  2740.45  2705.00  2730.0  2729.80   \n",
       "\n",
       "      Total Trade Quantity  Turnover (Lacs)  \n",
       "0                   9365.0           151.74  \n",
       "1                  38148.0           622.58  \n",
       "2                  36519.0           595.09  \n",
       "3                  12809.0           211.00  \n",
       "4                  28035.0           459.11  \n",
       "...                    ...              ...  \n",
       "1734                3953.0           107.15  \n",
       "1735               10600.0           286.10  \n",
       "1736                6050.0           163.44  \n",
       "1737                7649.0           207.87  \n",
       "1738                6513.0           177.65  \n",
       "\n",
       "[1739 rows x 8 columns]"
      ]
     },
     "execution_count": 9,
     "metadata": {},
     "output_type": "execute_result"
    }
   ],
   "source": [
    "df1"
   ]
  },
  {
   "cell_type": "code",
   "execution_count": 27,
   "id": "882e011a",
   "metadata": {},
   "outputs": [],
   "source": [
    "df1['gain'] =  df1['Close'].pct_change()  "
   ]
  },
  {
   "cell_type": "code",
   "execution_count": 28,
   "id": "b4e2a87e",
   "metadata": {},
   "outputs": [
    {
     "data": {
      "text/html": [
       "<div>\n",
       "<style scoped>\n",
       "    .dataframe tbody tr th:only-of-type {\n",
       "        vertical-align: middle;\n",
       "    }\n",
       "\n",
       "    .dataframe tbody tr th {\n",
       "        vertical-align: top;\n",
       "    }\n",
       "\n",
       "    .dataframe thead th {\n",
       "        text-align: right;\n",
       "    }\n",
       "</style>\n",
       "<table border=\"1\" class=\"dataframe\">\n",
       "  <thead>\n",
       "    <tr style=\"text-align: right;\">\n",
       "      <th></th>\n",
       "      <th>Date</th>\n",
       "      <th>Open</th>\n",
       "      <th>High</th>\n",
       "      <th>Low</th>\n",
       "      <th>Last</th>\n",
       "      <th>Close</th>\n",
       "      <th>Total Trade Quantity</th>\n",
       "      <th>Turnover (Lacs)</th>\n",
       "      <th>gain</th>\n",
       "    </tr>\n",
       "  </thead>\n",
       "  <tbody>\n",
       "    <tr>\n",
       "      <th>0</th>\n",
       "      <td>2010-01-04</td>\n",
       "      <td>1613.00</td>\n",
       "      <td>1629.10</td>\n",
       "      <td>1602.00</td>\n",
       "      <td>1629.0</td>\n",
       "      <td>1625.65</td>\n",
       "      <td>9365.0</td>\n",
       "      <td>151.74</td>\n",
       "      <td>NaN</td>\n",
       "    </tr>\n",
       "    <tr>\n",
       "      <th>1</th>\n",
       "      <td>2010-01-05</td>\n",
       "      <td>1639.95</td>\n",
       "      <td>1639.95</td>\n",
       "      <td>1611.05</td>\n",
       "      <td>1620.0</td>\n",
       "      <td>1616.80</td>\n",
       "      <td>38148.0</td>\n",
       "      <td>622.58</td>\n",
       "      <td>-0.005444</td>\n",
       "    </tr>\n",
       "    <tr>\n",
       "      <th>2</th>\n",
       "      <td>2010-01-06</td>\n",
       "      <td>1618.00</td>\n",
       "      <td>1644.00</td>\n",
       "      <td>1617.00</td>\n",
       "      <td>1639.0</td>\n",
       "      <td>1638.50</td>\n",
       "      <td>36519.0</td>\n",
       "      <td>595.09</td>\n",
       "      <td>0.013422</td>\n",
       "    </tr>\n",
       "    <tr>\n",
       "      <th>3</th>\n",
       "      <td>2010-01-07</td>\n",
       "      <td>1645.00</td>\n",
       "      <td>1654.00</td>\n",
       "      <td>1636.00</td>\n",
       "      <td>1648.0</td>\n",
       "      <td>1648.70</td>\n",
       "      <td>12809.0</td>\n",
       "      <td>211.00</td>\n",
       "      <td>0.006225</td>\n",
       "    </tr>\n",
       "    <tr>\n",
       "      <th>4</th>\n",
       "      <td>2010-01-08</td>\n",
       "      <td>1650.00</td>\n",
       "      <td>1650.00</td>\n",
       "      <td>1626.55</td>\n",
       "      <td>1640.0</td>\n",
       "      <td>1639.80</td>\n",
       "      <td>28035.0</td>\n",
       "      <td>459.11</td>\n",
       "      <td>-0.005398</td>\n",
       "    </tr>\n",
       "    <tr>\n",
       "      <th>...</th>\n",
       "      <td>...</td>\n",
       "      <td>...</td>\n",
       "      <td>...</td>\n",
       "      <td>...</td>\n",
       "      <td>...</td>\n",
       "      <td>...</td>\n",
       "      <td>...</td>\n",
       "      <td>...</td>\n",
       "      <td>...</td>\n",
       "    </tr>\n",
       "    <tr>\n",
       "      <th>1734</th>\n",
       "      <td>2016-12-26</td>\n",
       "      <td>2703.00</td>\n",
       "      <td>2740.00</td>\n",
       "      <td>2677.00</td>\n",
       "      <td>2715.0</td>\n",
       "      <td>2723.50</td>\n",
       "      <td>3953.0</td>\n",
       "      <td>107.15</td>\n",
       "      <td>-0.001283</td>\n",
       "    </tr>\n",
       "    <tr>\n",
       "      <th>1735</th>\n",
       "      <td>2016-12-27</td>\n",
       "      <td>2722.95</td>\n",
       "      <td>2725.00</td>\n",
       "      <td>2683.00</td>\n",
       "      <td>2692.0</td>\n",
       "      <td>2701.75</td>\n",
       "      <td>10600.0</td>\n",
       "      <td>286.10</td>\n",
       "      <td>-0.007986</td>\n",
       "    </tr>\n",
       "    <tr>\n",
       "      <th>1736</th>\n",
       "      <td>2016-12-28</td>\n",
       "      <td>2701.75</td>\n",
       "      <td>2718.00</td>\n",
       "      <td>2690.00</td>\n",
       "      <td>2698.0</td>\n",
       "      <td>2702.15</td>\n",
       "      <td>6050.0</td>\n",
       "      <td>163.44</td>\n",
       "      <td>0.000148</td>\n",
       "    </tr>\n",
       "    <tr>\n",
       "      <th>1737</th>\n",
       "      <td>2016-12-29</td>\n",
       "      <td>2702.05</td>\n",
       "      <td>2739.00</td>\n",
       "      <td>2691.95</td>\n",
       "      <td>2710.0</td>\n",
       "      <td>2727.90</td>\n",
       "      <td>7649.0</td>\n",
       "      <td>207.87</td>\n",
       "      <td>0.009529</td>\n",
       "    </tr>\n",
       "    <tr>\n",
       "      <th>1738</th>\n",
       "      <td>2016-12-30</td>\n",
       "      <td>2730.00</td>\n",
       "      <td>2740.45</td>\n",
       "      <td>2705.00</td>\n",
       "      <td>2730.0</td>\n",
       "      <td>2729.80</td>\n",
       "      <td>6513.0</td>\n",
       "      <td>177.65</td>\n",
       "      <td>0.000697</td>\n",
       "    </tr>\n",
       "  </tbody>\n",
       "</table>\n",
       "<p>1739 rows × 9 columns</p>\n",
       "</div>"
      ],
      "text/plain": [
       "            Date     Open     High      Low    Last    Close  \\\n",
       "0     2010-01-04  1613.00  1629.10  1602.00  1629.0  1625.65   \n",
       "1     2010-01-05  1639.95  1639.95  1611.05  1620.0  1616.80   \n",
       "2     2010-01-06  1618.00  1644.00  1617.00  1639.0  1638.50   \n",
       "3     2010-01-07  1645.00  1654.00  1636.00  1648.0  1648.70   \n",
       "4     2010-01-08  1650.00  1650.00  1626.55  1640.0  1639.80   \n",
       "...          ...      ...      ...      ...     ...      ...   \n",
       "1734  2016-12-26  2703.00  2740.00  2677.00  2715.0  2723.50   \n",
       "1735  2016-12-27  2722.95  2725.00  2683.00  2692.0  2701.75   \n",
       "1736  2016-12-28  2701.75  2718.00  2690.00  2698.0  2702.15   \n",
       "1737  2016-12-29  2702.05  2739.00  2691.95  2710.0  2727.90   \n",
       "1738  2016-12-30  2730.00  2740.45  2705.00  2730.0  2729.80   \n",
       "\n",
       "      Total Trade Quantity  Turnover (Lacs)      gain  \n",
       "0                   9365.0           151.74       NaN  \n",
       "1                  38148.0           622.58 -0.005444  \n",
       "2                  36519.0           595.09  0.013422  \n",
       "3                  12809.0           211.00  0.006225  \n",
       "4                  28035.0           459.11 -0.005398  \n",
       "...                    ...              ...       ...  \n",
       "1734                3953.0           107.15 -0.001283  \n",
       "1735               10600.0           286.10 -0.007986  \n",
       "1736                6050.0           163.44  0.000148  \n",
       "1737                7649.0           207.87  0.009529  \n",
       "1738                6513.0           177.65  0.000697  \n",
       "\n",
       "[1739 rows x 9 columns]"
      ]
     },
     "execution_count": 28,
     "metadata": {},
     "output_type": "execute_result"
    }
   ],
   "source": [
    "df1"
   ]
  },
  {
   "cell_type": "code",
   "execution_count": 31,
   "id": "0aeba58c",
   "metadata": {},
   "outputs": [
    {
     "data": {
      "text/plain": [
       "0.0003860410825922916"
      ]
     },
     "execution_count": 31,
     "metadata": {},
     "output_type": "execute_result"
    }
   ],
   "source": [
    "GLAXO_mean = df1['gain'].mean()\n",
    "GLAXO_mean"
   ]
  },
  {
   "cell_type": "code",
   "execution_count": 33,
   "id": "bbe3a7ee",
   "metadata": {},
   "outputs": [
    {
     "data": {
      "text/plain": [
       "0.013360538552253333"
      ]
     },
     "execution_count": 33,
     "metadata": {},
     "output_type": "execute_result"
    }
   ],
   "source": [
    "GLAXO_std = df1['gain'].std()\n",
    "GLAXO_std"
   ]
  },
  {
   "cell_type": "code",
   "execution_count": 34,
   "id": "7f9575c6",
   "metadata": {},
   "outputs": [
    {
     "data": {
      "text/plain": [
       "(array([5.00e+00, 5.40e+01, 1.17e+03, 4.75e+02, 2.80e+01, 4.00e+00,\n",
       "        1.00e+00, 0.00e+00, 0.00e+00, 1.00e+00]),\n",
       " array([-0.07471894, -0.04832747, -0.021936  ,  0.00445548,  0.03084695,\n",
       "         0.05723842,  0.08362989,  0.11002136,  0.13641284,  0.16280431,\n",
       "         0.18919578]),\n",
       " <BarContainer object of 10 artists>)"
      ]
     },
     "execution_count": 34,
     "metadata": {},
     "output_type": "execute_result"
    },
    {
     "data": {
      "image/png": "[encoded data removed]",
      "text/plain": [
       "<Figure size 640x480 with 1 Axes>"
      ]
     },
     "metadata": {},
     "output_type": "display_data"
    }
   ],
   "source": [
    "plt.hist(x = df1['gain'] ) "
   ]
  },
  {
   "cell_type": "markdown",
   "id": "d0ea636f",
   "metadata": {},
   "source": [
    "# Questions "
   ]
  },
  {
   "cell_type": "markdown",
   "id": "fd73337e",
   "metadata": {},
   "source": [
    "1) Probability of making 2% loss or higher in Glaxo\n"
   ]
  },
  {
   "cell_type": "code",
   "execution_count": 35,
   "id": "3781ed87",
   "metadata": {},
   "outputs": [],
   "source": [
    "# import scipy.stats\n",
    "from scipy.stats import norm"
   ]
  },
  {
   "cell_type": "code",
   "execution_count": 36,
   "id": "c589174e",
   "metadata": {},
   "outputs": [
    {
     "data": {
      "text/plain": [
       "0.06352488667177397"
      ]
     },
     "execution_count": 36,
     "metadata": {},
     "output_type": "execute_result"
    }
   ],
   "source": [
    "#Glaxo\n",
    "norm.cdf(-0.02,loc=GLAXO_mean,scale=GLAXO_std)"
   ]
  },
  {
   "cell_type": "markdown",
   "id": "8c428189",
   "metadata": {},
   "source": [
    "2. Probability of making 2% loss or higher in BEML\n"
   ]
  },
  {
   "cell_type": "code",
   "execution_count": 37,
   "id": "48a1761e",
   "metadata": {},
   "outputs": [
    {
     "data": {
      "text/plain": [
       "0.22155987503755292"
      ]
     },
     "execution_count": 37,
     "metadata": {},
     "output_type": "execute_result"
    }
   ],
   "source": [
    "norm.cdf(-0.02,loc=beml_mean,scale=beml_std)"
   ]
  },
  {
   "cell_type": "markdown",
   "id": "794c5668",
   "metadata": {},
   "source": [
    "3. Probability of making 2% gain or higher in Glaxo\n"
   ]
  },
  {
   "cell_type": "code",
   "execution_count": 41,
   "id": "b4c079bb",
   "metadata": {},
   "outputs": [
    {
     "data": {
      "text/plain": [
       "0.07104511457618568"
      ]
     },
     "execution_count": 41,
     "metadata": {},
     "output_type": "execute_result"
    }
   ],
   "source": [
    "1- norm.cdf(0.02,loc=GLAXO_mean,scale=GLAXO_std)"
   ]
  },
  {
   "cell_type": "markdown",
   "id": "fb6fc020",
   "metadata": {},
   "source": [
    "4.Probability of making 2% gain or higher in BEML: \n"
   ]
  },
  {
   "cell_type": "code",
   "execution_count": 42,
   "id": "47940e2c",
   "metadata": {},
   "outputs": [
    {
     "data": {
      "text/plain": [
       "0.22769829484075343"
      ]
     },
     "execution_count": 42,
     "metadata": {},
     "output_type": "execute_result"
    }
   ],
   "source": [
    "1-norm.cdf(0.02,loc=beml_mean,scale=beml_std)"
   ]
  }
 ],
 "metadata": {
  "kernelspec": {
   "display_name": "Python 3 (ipykernel)",
   "language": "python",
   "name": "python3"
  },
  "language_info": {
   "codemirror_mode": {
    "name": "ipython",
    "version": 3
   },
   "file_extension": ".py",
   "mimetype": "text/x-python",
   "name": "python",
   "nbconvert_exporter": "python",
   "pygments_lexer": "ipython3",
   "version": "3.11.3"
  }
 },
 "nbformat": 4,
 "nbformat_minor": 5
}
